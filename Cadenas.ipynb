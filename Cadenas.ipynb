{
 "cells": [
  {
   "cell_type": "markdown",
   "metadata": {},
   "source": [
    "# Cadenas"
   ]
  },
  {
   "cell_type": "markdown",
   "metadata": {},
   "source": [
    "## Ejercicio 1: Transformar cadenas.\n",
    "En este ejercicio, usarás métodos de cadena para modificar el texto con hechos sobre la Luna y luego extraerás información para crear un breve resumen"
   ]
  },
  {
   "cell_type": "code",
   "execution_count": 8,
   "metadata": {},
   "outputs": [
    {
     "name": "stdout",
     "output_type": "stream",
     "text": [
      "On average, the Moon moves 4cm away from the Earth every year\n",
      "The highest daylight temperature of the Moon is 127 Celsius.\n"
     ]
    }
   ],
   "source": [
    "text = \"\"\"Interesting facts about the Moon. The Moon is Earth's only satellite. There are several interesting facts about the Moon and how it affects life here on Earth. On average, the Moon moves 4cm away from the Earth every year. This yearly drift is not significant enough to cause immediate effects on Earth. The highest daylight temperature of the Moon is 127 C.\"\"\"\n",
    "textsplit = text.split('. ')\n",
    "palabras = [\"average\", \"temperature\", \"distance\"]\n",
    "for oracion in textsplit:\n",
    "    for palabra in palabras:\n",
    "        if palabra in oracion:\n",
    "            print(oracion.replace(\" C\", \" Celsius\"))\n",
    "            break\n",
    "\n",
    "\n",
    "\n",
    "\n"
   ]
  },
  {
   "cell_type": "markdown",
   "metadata": {},
   "source": [
    "## Ejercicio 2: Formateando Cadenas\n",
    "\n",
    "En este ejercicio, se utilizan variables que contienen datos clave sobre la gravedad en varias lunas y luego se utilizan para dar formato e imprimir la información.\n",
    "\n",
    "El formato tiene que acomodar información sobre otras lunas, por lo que debe ser genérico."
   ]
  },
  {
   "cell_type": "code",
   "execution_count": 9,
   "metadata": {},
   "outputs": [
    {
     "name": "stdout",
     "output_type": "stream",
     "text": [
      "Gravity Facts about Moon\n",
      "----------------------- \n",
      " Planet name: Earth  \n",
      " Gravity on Moon: 1.6199999999999999 m/s2\n",
      " \n",
      " \n",
      "Datos de gravedad sobre Ganímedes\n",
      "----------------------- \n",
      " Planet name: Marte   \n",
      " Gravity on Ganímedes: 1.4300000000000002 m/s2\n"
     ]
    }
   ],
   "source": [
    "name = \"Moon\"\n",
    "gravity = 0.00162 # in kms\n",
    "gravity1000 = gravity * 1000\n",
    "planet = \"Earth\"\n",
    "\n",
    "#Creamos un título\n",
    "maintitle = f\"Gravity Facts about {name}\"\n",
    "\n",
    "\n",
    "#Crear plantilla\n",
    "plantilla = f\"\"\"----------------------- \n",
    " Planet name: {planet}  \n",
    " Gravity on {name}: {gravity1000} m/s2\n",
    " \n",
    " \"\"\"\n",
    "\n",
    "union = maintitle + \"\\n\" + plantilla\n",
    "\n",
    "print(union)\n",
    "\n",
    "#Nuevos datos muestra\n",
    "planeta = 'Marte '\n",
    "gravedad  = 0.00143\n",
    "nombre = 'Ganímedes'\n",
    "\n",
    "nuevaunion = \"\"\"Datos de gravedad sobre {name}\n",
    "----------------------- \n",
    " Planet name: {planet}  \n",
    " Gravity on {name}: {gravity1000} m/s2\"\"\"\n",
    "\n",
    "print(nuevaunion.format(name=nombre,planet=planeta,gravity1000= gravedad*1000))\n"
   ]
  }
 ],
 "metadata": {
  "interpreter": {
   "hash": "2c74241310070f23d46ab0e275d78d58efb79c1382fe4777502b34acf148f7b4"
  },
  "kernelspec": {
   "display_name": "Python 3.10.2 64-bit",
   "language": "python",
   "name": "python3"
  },
  "language_info": {
   "codemirror_mode": {
    "name": "ipython",
    "version": 3
   },
   "file_extension": ".py",
   "mimetype": "text/x-python",
   "name": "python",
   "nbconvert_exporter": "python",
   "pygments_lexer": "ipython3",
   "version": "3.10.2"
  },
  "orig_nbformat": 4
 },
 "nbformat": 4,
 "nbformat_minor": 2
}
