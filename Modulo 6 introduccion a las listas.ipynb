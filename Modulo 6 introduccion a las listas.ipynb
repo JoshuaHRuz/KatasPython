{
 "cells": [
  {
   "cell_type": "code",
   "execution_count": null,
   "metadata": {},
   "outputs": [],
   "source": []
  },
  {
   "cell_type": "markdown",
   "metadata": {},
   "source": [
    "# Introducción a las listas"
   ]
  },
  {
   "cell_type": "markdown",
   "metadata": {},
   "source": [
    "### Ejercicio1: Crear y usar listas de Python\n",
    "Para crear nuestra aplicación, queremos leer la distancia del sol para dos planetas, y luego mostrar la distancia entre los planetas. Haremos esto usando input para leer los valores, int para convertir a entero y luego abs para convertir el resultado en su valor absoluto."
   ]
  },
  {
   "cell_type": "code",
   "execution_count": 1,
   "metadata": {},
   "outputs": [
    {
     "name": "stdout",
     "output_type": "stream",
     "text": [
      "Pluto\n"
     ]
    }
   ],
   "source": [
    "planets = ['Mercury', 'Venus', 'Earth', 'Mars', 'Jupiter', 'Saturn', 'Uranus', 'Neptune']\n",
    "planets.append('Pluto')\n",
    "print(planets[-1])"
   ]
  },
  {
   "cell_type": "markdown",
   "metadata": {},
   "source": [
    "# Ejercicio 2\n",
    "Usar slices para recuperar partes de una lista. Es posible que debas trabajar con diferentes secciones de una lista. En nuestro ejemplo, queremos mostrar planetas más cerca y más lejos del sol de un planeta que el usuario ingresa por teclado."
   ]
  },
  {
   "cell_type": "code",
   "execution_count": 7,
   "metadata": {},
   "outputs": [
    {
     "name": "stdout",
     "output_type": "stream",
     "text": [
      "Introduzca un planeta iniciando con mayúscula:\n",
      "Estos son los planetas más cercanos al Sol: ['Mercury', 'Venus', 'Earth']\n",
      "Estos son los planetas más alejados del Sol ['Jupiter', 'Saturn', 'Neptune']\n"
     ]
    }
   ],
   "source": [
    "planets = ['Mercury', 'Venus', 'Earth', 'Mars', 'Jupiter', 'Saturn', 'Neptune']\n",
    "print(\"Introduzca un planeta iniciando con mayúscula:\")\n",
    "find_planet = input()\n",
    "indicep = planets.index(find_planet)\n",
    "print(\"Estos son los planetas más cercanos al Sol:\", planets[0:indicep])\n",
    "print(\"Estos son los planetas más alejados del Sol:\", planets[indicep+1:len(planets)])\n",
    "\n"
   ]
  }
 ],
 "metadata": {
  "interpreter": {
   "hash": "2c74241310070f23d46ab0e275d78d58efb79c1382fe4777502b34acf148f7b4"
  },
  "kernelspec": {
   "display_name": "Python 3.10.2 64-bit",
   "language": "python",
   "name": "python3"
  },
  "language_info": {
   "codemirror_mode": {
    "name": "ipython",
    "version": 3
   },
   "file_extension": ".py",
   "mimetype": "text/x-python",
   "name": "python",
   "nbconvert_exporter": "python",
   "pygments_lexer": "ipython3",
   "version": "3.10.2"
  },
  "orig_nbformat": 4
 },
 "nbformat": 4,
 "nbformat_minor": 2
}
